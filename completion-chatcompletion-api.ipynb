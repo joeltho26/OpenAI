{
 "cells": [
  {
   "cell_type": "code",
   "execution_count": 9,
   "metadata": {},
   "outputs": [],
   "source": [
    "import os\n",
    "import openai\n",
    "from openai import OpenAI\n",
    "import pandas as pd\n",
    "from dotenv import load_dotenv\n",
    "load_dotenv()\n",
    "openai.api_key = os.getenv('OPENAI_API_KEY')"
   ]
  },
  {
   "cell_type": "code",
   "execution_count": null,
   "metadata": {},
   "outputs": [],
   "source": [
    "#Chat Completion API and  Completion API\n",
    "client = OpenAI()\n",
    "response = client.completions.create(\n",
    "    model=\"gpt-3.5-turbo-1106\",\n",
    "    prompt=\"What is the capital of India?\",\n",
    "    max_tokens=25,\n",
    "    temperature=0.5,\n",
    "    n=5\n",
    ")"
   ]
  },
  {
   "cell_type": "code",
   "execution_count": null,
   "metadata": {},
   "outputs": [],
   "source": [
    "response = client.chat.completions.create(\n",
    "    model=\"gpt-3.5-turbo-1106\",\n",
    "    max_tokens=25,\n",
    "    temperature=0.5,\n",
    "    n=5,\n",
    "    messages=[{'role':'system', \"content\":\"Act as an AI assistant\"},\n",
    "              {\"role\":'user',\"content\":\"Who is in charge?\"},\n",
    "              {\"role\":'user',\"content\":\"I'm John and I'm a data scientist.\"},\n",
    "              {\"role\":'user',\"content\":\"What is my profession?\"}\n",
    "              ]\n",
    ")"
   ]
  },
  {
   "cell_type": "code",
   "execution_count": null,
   "metadata": {},
   "outputs": [],
   "source": []
  }
 ],
 "metadata": {
  "kernelspec": {
   "display_name": "Python 3",
   "language": "python",
   "name": "python3"
  },
  "language_info": {
   "codemirror_mode": {
    "name": "ipython",
    "version": 3
   },
   "file_extension": ".py",
   "mimetype": "text/x-python",
   "name": "python",
   "nbconvert_exporter": "python",
   "pygments_lexer": "ipython3",
   "version": "3.9.18"
  }
 },
 "nbformat": 4,
 "nbformat_minor": 2
}
