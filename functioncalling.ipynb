{
 "cells": [
  {
   "cell_type": "code",
   "execution_count": 4,
   "metadata": {},
   "outputs": [],
   "source": [
    "import os\n",
    "import openai\n",
    "import requests\n",
    "from openai import OpenAI\n",
    "import pandas as pd\n",
    "from dotenv import load_dotenv\n",
    "load_dotenv()\n",
    "openai.api_key = os.getenv('OPENAI_API_KEY')"
   ]
  },
  {
   "cell_type": "code",
   "execution_count": null,
   "metadata": {},
   "outputs": [],
   "source": [
    "client = OpenAI()\n",
    "response = client.chat.completions.create(\n",
    "    model=\"gpt-3.5-turbo-1106\",\n",
    "    max_tokens=25,\n",
    "    temperature=0.5,\n",
    "    n=5,\n",
    "    messages=[{'role':'system', \"content\":\"Act as an temperature AI assistant\"},\n",
    "              {\"role\":'user',\"content\":\"What is the weather now?\"}\n",
    "              ]\n",
    ")\n",
    "\n",
    "print(response.choices[0].message)"
   ]
  },
  {
   "cell_type": "code",
   "execution_count": 5,
   "metadata": {},
   "outputs": [],
   "source": [
    "import json\n",
    "\n",
    "def get_current_weather(location):\n",
    "    # Get the current weather data for a given location.\n",
    "    \n",
    "    url = \"https://ai-weather-by-meteosource.p.rapidapi.com/find_places\"\n",
    "    \n",
    "    querystring = {\"text\": location}\n",
    "    \n",
    "    headers = {\n",
    "        \"X-RapidAPI-Key\": \"bc33633cb4msh749d8946011e6f0p1098bejsnd1772bbfb26c\",\n",
    "        \"X-RapidAPI-Host\": \"ai-weather-by-meteosource.p.rapidapi.com\"\n",
    "    }\n",
    "    \n",
    "    response = requests.get(url,headers=headers,params=querystring)\n",
    "    print(type(response))\n",
    "    \n",
    "    return response.json()"
   ]
  },
  {
   "cell_type": "code",
   "execution_count": 10,
   "metadata": {},
   "outputs": [
    {
     "name": "stdout",
     "output_type": "stream",
     "text": [
      "<class 'requests.models.Response'>\n"
     ]
    }
   ],
   "source": [
    "response = get_current_weather(\"Toronto\")"
   ]
  },
  {
   "cell_type": "code",
   "execution_count": 11,
   "metadata": {},
   "outputs": [
    {
     "data": {
      "text/plain": [
       "[{'name': 'Toronto',\n",
       "  'place_id': 'toronto',\n",
       "  'adm_area1': 'Ontario',\n",
       "  'adm_area2': None,\n",
       "  'country': 'Canada',\n",
       "  'lat': '43.70011N',\n",
       "  'lon': '79.4163W',\n",
       "  'timezone': 'America/Toronto',\n",
       "  'type': 'settlement'},\n",
       " {'name': 'Toronto',\n",
       "  'place_id': 'toronto-10103951',\n",
       "  'adm_area1': 'New South Wales',\n",
       "  'adm_area2': 'Lake Macquarie Shire',\n",
       "  'country': 'Australia',\n",
       "  'lat': '33.01357S',\n",
       "  'lon': '151.59373E',\n",
       "  'timezone': 'Australia/Sydney',\n",
       "  'type': 'settlement'},\n",
       " {'name': 'Toronto',\n",
       "  'place_id': 'toronto-5174095',\n",
       "  'adm_area1': 'Ohio',\n",
       "  'adm_area2': 'Jefferson',\n",
       "  'country': 'United States of America',\n",
       "  'lat': '40.46423N',\n",
       "  'lon': '80.60091W',\n",
       "  'timezone': 'America/New_York',\n",
       "  'type': 'settlement'},\n",
       " {'name': 'Toronto',\n",
       "  'place_id': 'toronto-4280519',\n",
       "  'adm_area1': 'Kansas',\n",
       "  'adm_area2': 'Woodson',\n",
       "  'country': 'United States of America',\n",
       "  'lat': '37.79893N',\n",
       "  'lon': '95.94916W',\n",
       "  'timezone': 'America/Chicago',\n",
       "  'type': 'settlement'},\n",
       " {'name': 'Toronto',\n",
       "  'place_id': 'toronto-5232379',\n",
       "  'adm_area1': 'South Dakota',\n",
       "  'adm_area2': 'Deuel',\n",
       "  'country': 'United States of America',\n",
       "  'lat': '44.57302N',\n",
       "  'lon': '96.64255W',\n",
       "  'timezone': 'America/Chicago',\n",
       "  'type': 'settlement'},\n",
       " {'name': 'Toronto',\n",
       "  'place_id': 'toronto-4878739',\n",
       "  'adm_area1': 'Iowa',\n",
       "  'adm_area2': 'Clinton',\n",
       "  'country': 'United States of America',\n",
       "  'lat': '41.90502N',\n",
       "  'lon': '90.86403W',\n",
       "  'timezone': 'America/Chicago',\n",
       "  'type': 'settlement'},\n",
       " {'name': 'Toronto',\n",
       "  'place_id': 'toronto-6167862',\n",
       "  'adm_area1': 'Prince Edward Island',\n",
       "  'adm_area2': None,\n",
       "  'country': 'Canada',\n",
       "  'lat': '46.45012N',\n",
       "  'lon': '63.382W',\n",
       "  'timezone': 'America/Halifax',\n",
       "  'type': 'settlement'},\n",
       " {'name': 'Toronto',\n",
       "  'place_id': 'toronto-3666870',\n",
       "  'adm_area1': 'Antioquia',\n",
       "  'adm_area2': 'Caucasia',\n",
       "  'country': 'Republic of Colombia',\n",
       "  'lat': '7.96021N',\n",
       "  'lon': '74.92025W',\n",
       "  'timezone': 'America/Bogota',\n",
       "  'type': 'settlement'},\n",
       " {'name': 'Toronto',\n",
       "  'place_id': 'toronto-4411872',\n",
       "  'adm_area1': 'Missouri',\n",
       "  'adm_area2': 'Camden County',\n",
       "  'country': 'United States of America',\n",
       "  'lat': '38.00365N',\n",
       "  'lon': '92.52546W',\n",
       "  'timezone': 'America/Chicago',\n",
       "  'type': 'settlement'},\n",
       " {'name': 'Toronto',\n",
       "  'place_id': 'toronto-county',\n",
       "  'adm_area1': 'Ontario',\n",
       "  'adm_area2': 'Toronto',\n",
       "  'country': 'Canada',\n",
       "  'lat': '43.69655N',\n",
       "  'lon': '79.42909W',\n",
       "  'timezone': 'America/Toronto',\n",
       "  'type': 'administrative_area'}]"
      ]
     },
     "execution_count": 11,
     "metadata": {},
     "output_type": "execute_result"
    }
   ],
   "source": [
    "response"
   ]
  },
  {
   "cell_type": "code",
   "execution_count": 12,
   "metadata": {},
   "outputs": [],
   "source": [
    "functions = [\n",
    "        {\n",
    "            \"name\": \"get_current_weather\",\n",
    "            \"description\": \"Get the current weather in a given location\",\n",
    "            \"parameters\": {\n",
    "                \"type\": \"object\",\n",
    "                \"properties\": {\n",
    "                    \"location\": {\n",
    "                        \"type\": \"string\",\n",
    "                        \"description\": \"The city and state, e.g. San Francisco, CA\",\n",
    "                    },\n",
    "                    \n",
    "                },\n",
    "                \"required\": [\"location\"],\n",
    "            },\n",
    "        }\n",
    "    ]\n"
   ]
  },
  {
   "cell_type": "code",
   "execution_count": 13,
   "metadata": {},
   "outputs": [
    {
     "data": {
      "text/plain": [
       "[{'name': 'get_current_weather',\n",
       "  'description': 'Get the current weather in a given location',\n",
       "  'parameters': {'type': 'object',\n",
       "   'properties': {'location': {'type': 'string',\n",
       "     'description': 'The city and state, e.g. San Francisco, CA'}},\n",
       "   'required': ['location']}}]"
      ]
     },
     "execution_count": 13,
     "metadata": {},
     "output_type": "execute_result"
    }
   ],
   "source": [
    "functions"
   ]
  },
  {
   "cell_type": "code",
   "execution_count": null,
   "metadata": {},
   "outputs": [],
   "source": [
    "user_message=\"Hi There\"\n",
    "messages=[]\n",
    "messages.append({\"role\": \"user\", \"content\":user_message})\n",
    "completion=openai.ChatCompletion.create(\n",
    "    model=\"gpt-3.5-turbo\",\n",
    "    messages=\n",
    "       messages\n",
    "    \n",
    ")"
   ]
  },
  {
   "cell_type": "code",
   "execution_count": null,
   "metadata": {},
   "outputs": [],
   "source": [
    "print(completion.choices[0].message)\n"
   ]
  },
  {
   "cell_type": "code",
   "execution_count": null,
   "metadata": {},
   "outputs": [],
   "source": [
    "messages"
   ]
  },
  {
   "cell_type": "code",
   "execution_count": null,
   "metadata": {},
   "outputs": [],
   "source": [
    "user_message=\"What is the temperature of Bangalore\"\n",
    "\n",
    "messages.append({\"role\": \"user\", \"content\": user_message})\n",
    "completion=openai.ChatCompletion.create(\n",
    "    model=\"gpt-3.5-turbo-0613\",\n",
    "    messages=messages,\n",
    "    functions=functions\n",
    "    \n",
    ")"
   ]
  },
  {
   "cell_type": "code",
   "execution_count": null,
   "metadata": {},
   "outputs": [],
   "source": [
    "messages"
   ]
  },
  {
   "cell_type": "code",
   "execution_count": null,
   "metadata": {},
   "outputs": [],
   "source": [
    "completion"
   ]
  },
  {
   "cell_type": "code",
   "execution_count": null,
   "metadata": {},
   "outputs": [],
   "source": [
    "print(completion.choices[0].message)\n"
   ]
  },
  {
   "cell_type": "code",
   "execution_count": null,
   "metadata": {},
   "outputs": [],
   "source": [
    "response=completion.choices[0].message\n",
    "response"
   ]
  },
  {
   "cell_type": "code",
   "execution_count": null,
   "metadata": {},
   "outputs": [],
   "source": [
    "function_name=response['function_call']['name']\n",
    "print(function_name)"
   ]
  },
  {
   "cell_type": "code",
   "execution_count": null,
   "metadata": {},
   "outputs": [],
   "source": [
    "import json\n",
    "location=eval(response['function_call']['arguments'])['location']\n",
    "print(location)"
   ]
  },
  {
   "cell_type": "code",
   "execution_count": null,
   "metadata": {},
   "outputs": [],
   "source": [
    "# Step 4: send the info on the function call and function response to GPT\n",
    "messages.append(response)  # extend conversation with assistant's reply\n",
    "messages.append(\n",
    "    {\n",
    "        \"role\": \"function\",\n",
    "        \"name\": function_name,\n",
    "        \"content\": location,\n",
    "    }\n",
    ")\n",
    "messages"
   ]
  },
  {
   "cell_type": "code",
   "execution_count": null,
   "metadata": {},
   "outputs": [],
   "source": [
    "# extend conversation with function response\n",
    "second_response = openai.ChatCompletion.create(\n",
    "    model=\"gpt-3.5-turbo-0613\",\n",
    "    messages=messages,\n",
    "    functions=functions\n",
    ")  # get a new response from GPT where it can see the function response"
   ]
  },
  {
   "cell_type": "code",
   "execution_count": null,
   "metadata": {},
   "outputs": [],
   "source": [
    "print(second_response.choices[0].message)\n"
   ]
  },
  {
   "cell_type": "code",
   "execution_count": null,
   "metadata": {},
   "outputs": [],
   "source": [
    "second_response"
   ]
  }
 ],
 "metadata": {
  "kernelspec": {
   "display_name": "Python 3",
   "language": "python",
   "name": "python3"
  },
  "language_info": {
   "codemirror_mode": {
    "name": "ipython",
    "version": 3
   },
   "file_extension": ".py",
   "mimetype": "text/x-python",
   "name": "python",
   "nbconvert_exporter": "python",
   "pygments_lexer": "ipython3",
   "version": "3.9.18"
  }
 },
 "nbformat": 4,
 "nbformat_minor": 2
}
