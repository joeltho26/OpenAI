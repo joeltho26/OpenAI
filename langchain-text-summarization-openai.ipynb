{
 "cells": [
  {
   "cell_type": "code",
   "execution_count": 1,
   "metadata": {},
   "outputs": [],
   "source": [
    "import os \n",
    "from dotenv import load_dotenv\n",
    "load_dotenv()\n",
    "from langchain.chat_models import ChatOpenAI\n",
    "from langchain.schema import AIMessage,HumanMessage,SystemMessage\n",
    "open_api_key=os.getenv('OPENAI_API_KEY')"
   ]
  },
  {
   "cell_type": "code",
   "execution_count": 2,
   "metadata": {},
   "outputs": [],
   "source": [
    "speech=\"\"\"\n",
    "People across the country, involved in government, political, and social activities, are dedicating their time to make the ‘Viksit Bharat Sankalp Yatra’ (Developed India Resolution Journey) successful. Therefore, as a Member of Parliament, it was my responsibility to also contribute my time to this program. So, today, I have come here just as a Member of Parliament and your ‘sevak’, ready to participate in this program, much like you.\n",
    "\n",
    "In our country, governments have come and gone, numerous schemes have been formulated, discussions have taken place, and big promises have been made. However, my experience and observations led me to believe that the most critical aspect that requires attention is ensuring that the government’s plans reach the intended beneficiaries without any hassles. If there is a ‘Pradhan Mantri Awas Yojana’ (Prime Minister’s housing scheme), then those who are living in jhuggis and slums should get their houses. And he should not need to make rounds of the government offices for this purpose. The government should reach him. Since you have assigned this responsibility to me, about four crore families have got their ‘pucca’ houses. However, I have encountered cases where someone is left out of the government benefits. Therefore, I have decided to tour the country again, to listen to people’s experiences with government schemes, to understand whether they received the intended benefits, and to ensure that the programs are reaching everyone as planned without paying any bribes. We will get the real picture if we visit them again. Therefore, this ‘Viksit Bharat Sankalp Yatra’ is, in a way, my own examination. I want to hear from you and the people across the country whether what I envisioned and the work I have been doing aligns with reality and whether it has reached those for whom it was meant.\n",
    "\n",
    "It is crucial to check whether the work that was supposed to happen has indeed taken place. I recently met some individuals who utilized the Ayushman card to get treatment for serious illnesses. One person met with a severe accident, and after using the card, he could afford the necessary operation, and now he is recovering well. When I asked him, he said: “How could I afford this treatment? Now that there is the Ayushman card, I mustered courage and underwent an operation. Now I am perfectly fine.”  Such stories are blessings to me.\n",
    "\n",
    "The bureaucrats, who prepare good schemes, expedite the paperwork and even allocate funds, also feel satisfied that 50 or 100 people who were supposed to get the funds have got it. The funds meant for a thousand villages have been released. But their job satisfaction peaks when they hear that their work has directly impacted someone’s life positively. When they see the tangible results of their efforts, their enthusiasm multiplies. They feel satisfied. Therefore, ‘Viksit Bharat Sankalp Yatra’ has had a positive impact on government officers. It has made them more enthusiastic about their work, especially when they witness the tangible benefits reaching the people. Officers now feel satisfied with their work, saying, “I made a good plan, I created a file, and the intended beneficiaries received the benefits.” When they find that the money has reached a poor widow under the Jeevan Jyoti scheme and it was a great help to her during her crisis, they realise that they have done a good job. When a government officer listens to such stories, he feels very satisfied.\n",
    "\n",
    "There are very few who understand the power and impact of the ‘Viksit Bharat Sankalp Yatra’. When I hear people connected to bureaucratic circles talking about it, expressing their satisfaction, it resonates with me. I’ve heard stories where someone suddenly received 2 lakh rupees after the death of her husband, and a sister mentioned how the arrival of gas in her home transformed her lives. The most significant aspect is when someone says that the line between rich and poor has vanished. While the slogan ‘Garibi Hatao’ (Remove Poverty) is one thing, but the real change happens when a person says, “As soon as the gas stove came to my house, the distinction between poverty and affluence disappeared.\n",
    "\"\"\""
   ]
  },
  {
   "cell_type": "code",
   "execution_count": 3,
   "metadata": {},
   "outputs": [
    {
     "name": "stderr",
     "output_type": "stream",
     "text": [
      "/Users/joeljoseph26/Documents/Education/Machine_and_Deep_Learning/LLMs/Langchain-chapter8/Langchain-Text-Summarization/Langchain-Text-Summarization/lib/python3.9/site-packages/langchain_core/_api/deprecation.py:117: LangChainDeprecationWarning: The class `langchain_community.chat_models.openai.ChatOpenAI` was deprecated in langchain-community 0.0.10 and will be removed in 0.2.0. An updated version of the class exists in the langchain-openai package and should be used instead. To use it run `pip install -U langchain-openai` and import as `from langchain_openai import ChatOpenAI`.\n",
      "  warn_deprecated(\n"
     ]
    }
   ],
   "source": [
    "chat_messages=[\n",
    "    SystemMessage(content='You are an expert assistant with expertize in summarizing speeches'),\n",
    "    HumanMessage(content=f'Please provide a short and concise summary of the following speech:\\n TEXT: {speech}')\n",
    "]\n",
    "\n",
    "llm=ChatOpenAI(model_name='gpt-3.5-turbo', openai_api_key=open_api_key)"
   ]
  },
  {
   "cell_type": "code",
   "execution_count": 4,
   "metadata": {},
   "outputs": [
    {
     "data": {
      "text/plain": [
       "866"
      ]
     },
     "execution_count": 4,
     "metadata": {},
     "output_type": "execute_result"
    }
   ],
   "source": [
    "##total tokens\n",
    "llm.get_num_tokens(speech)"
   ]
  },
  {
   "cell_type": "code",
   "execution_count": null,
   "metadata": {},
   "outputs": [],
   "source": [
    "llm(chat_messages).content"
   ]
  },
  {
   "cell_type": "code",
   "execution_count": null,
   "metadata": {},
   "outputs": [],
   "source": [
    "##get_summary\n",
    "print(llm(chat_messages).content)"
   ]
  },
  {
   "cell_type": "code",
   "execution_count": 6,
   "metadata": {},
   "outputs": [],
   "source": [
    "#Prompt Templates Text Summarization\n",
    "from langchain.chains import LLMChain\n",
    "from langchain import PromptTemplate\n",
    "\n",
    "generic_template='''\n",
    "Write a summary of the following speech:\n",
    "Speech : `{speech}`\n",
    "Translate the precise summary to {language}.\n",
    "\n",
    "'''\n",
    "prompt=PromptTemplate(\n",
    "    input_variables=['speech','language'],\n",
    "    template=generic_template\n",
    ")"
   ]
  },
  {
   "cell_type": "code",
   "execution_count": 7,
   "metadata": {},
   "outputs": [
    {
     "data": {
      "text/plain": [
       "'\\nWrite a summary of the following speech:\\nSpeech : `\\nPeople across the country, involved in government, political, and social activities, are dedicating their time to make the ‘Viksit Bharat Sankalp Yatra’ (Developed India Resolution Journey) successful. Therefore, as a Member of Parliament, it was my responsibility to also contribute my time to this program. So, today, I have come here just as a Member of Parliament and your ‘sevak’, ready to participate in this program, much like you.\\n\\nIn our country, governments have come and gone, numerous schemes have been formulated, discussions have taken place, and big promises have been made. However, my experience and observations led me to believe that the most critical aspect that requires attention is ensuring that the government’s plans reach the intended beneficiaries without any hassles. If there is a ‘Pradhan Mantri Awas Yojana’ (Prime Minister’s housing scheme), then those who are living in jhuggis and slums should get their houses. And he should not need to make rounds of the government offices for this purpose. The government should reach him. Since you have assigned this responsibility to me, about four crore families have got their ‘pucca’ houses. However, I have encountered cases where someone is left out of the government benefits. Therefore, I have decided to tour the country again, to listen to people’s experiences with government schemes, to understand whether they received the intended benefits, and to ensure that the programs are reaching everyone as planned without paying any bribes. We will get the real picture if we visit them again. Therefore, this ‘Viksit Bharat Sankalp Yatra’ is, in a way, my own examination. I want to hear from you and the people across the country whether what I envisioned and the work I have been doing aligns with reality and whether it has reached those for whom it was meant.\\n\\nIt is crucial to check whether the work that was supposed to happen has indeed taken place. I recently met some individuals who utilized the Ayushman card to get treatment for serious illnesses. One person met with a severe accident, and after using the card, he could afford the necessary operation, and now he is recovering well. When I asked him, he said: “How could I afford this treatment? Now that there is the Ayushman card, I mustered courage and underwent an operation. Now I am perfectly fine.”  Such stories are blessings to me.\\n\\nThe bureaucrats, who prepare good schemes, expedite the paperwork and even allocate funds, also feel satisfied that 50 or 100 people who were supposed to get the funds have got it. The funds meant for a thousand villages have been released. But their job satisfaction peaks when they hear that their work has directly impacted someone’s life positively. When they see the tangible results of their efforts, their enthusiasm multiplies. They feel satisfied. Therefore, ‘Viksit Bharat Sankalp Yatra’ has had a positive impact on government officers. It has made them more enthusiastic about their work, especially when they witness the tangible benefits reaching the people. Officers now feel satisfied with their work, saying, “I made a good plan, I created a file, and the intended beneficiaries received the benefits.” When they find that the money has reached a poor widow under the Jeevan Jyoti scheme and it was a great help to her during her crisis, they realise that they have done a good job. When a government officer listens to such stories, he feels very satisfied.\\n\\nThere are very few who understand the power and impact of the ‘Viksit Bharat Sankalp Yatra’. When I hear people connected to bureaucratic circles talking about it, expressing their satisfaction, it resonates with me. I’ve heard stories where someone suddenly received 2 lakh rupees after the death of her husband, and a sister mentioned how the arrival of gas in her home transformed her lives. The most significant aspect is when someone says that the line between rich and poor has vanished. While the slogan ‘Garibi Hatao’ (Remove Poverty) is one thing, but the real change happens when a person says, “As soon as the gas stove came to my house, the distinction between poverty and affluence disappeared.\\n`\\nTranslate the precise summary to Hindi.\\n\\n'"
      ]
     },
     "execution_count": 7,
     "metadata": {},
     "output_type": "execute_result"
    }
   ],
   "source": [
    "prompt.format(speech=speech,language='Hindi')"
   ]
  },
  {
   "cell_type": "code",
   "execution_count": 8,
   "metadata": {},
   "outputs": [],
   "source": [
    "complete_prompt=prompt.format(speech=speech,language='Hindi')"
   ]
  },
  {
   "cell_type": "code",
   "execution_count": 9,
   "metadata": {},
   "outputs": [
    {
     "data": {
      "text/plain": [
       "885"
      ]
     },
     "execution_count": 9,
     "metadata": {},
     "output_type": "execute_result"
    }
   ],
   "source": [
    "llm.get_num_tokens(complete_prompt)"
   ]
  },
  {
   "cell_type": "code",
   "execution_count": null,
   "metadata": {},
   "outputs": [],
   "source": [
    "llm_chain=LLMChain(llm=llm,prompt=prompt)\n",
    "summary=llm_chain.run({'speech':speech,'language':'hindi'})"
   ]
  },
  {
   "cell_type": "code",
   "execution_count": null,
   "metadata": {},
   "outputs": [],
   "source": [
    "summary"
   ]
  },
  {
   "cell_type": "code",
   "execution_count": 12,
   "metadata": {},
   "outputs": [],
   "source": [
    "#StuffDocumentChain Text Summarization\n",
    "from PyPDF2 import PdfReader\n",
    "pdfreader = PdfReader('documents/apjspeech.pdf')"
   ]
  },
  {
   "cell_type": "code",
   "execution_count": 13,
   "metadata": {},
   "outputs": [],
   "source": [
    "from typing_extensions import Concatenate\n",
    "# read text from pdf\n",
    "text = ''\n",
    "for i, page in enumerate(pdfreader.pages):\n",
    "    content = page.extract_text()\n",
    "    if content:\n",
    "        text += content"
   ]
  },
  {
   "cell_type": "code",
   "execution_count": 14,
   "metadata": {},
   "outputs": [
    {
     "data": {
      "text/plain": [
       "'Headline: Former president of India Dr. A .P.J. Abdul Kalam speaks at Carleton University  \\nBy, Mike Lapointe  \\n \\nThe former president of India, Dr. A.P.J. Abdul Kalam, told a group of Carleton University students last \\nmonth that they must take responsibility for their place in a changing world .  \\n \\n“Science and technology enhance the purpose and quality of human life ,’’ Kalam said during the \\nInaugural Bugh Singh and Kashmir Kaur Dhahan Lecture presented by the Canada -India Centre for \\nExcellen ce in Science, Technology, Trade and Policy.  \\n \\nElected as president of India in 2002, Kalam served in office for five years.  \\n \\nThe 82 year -old lifelong educator and former president of the second most populous country in the \\nworld began his speech with a n ote of caution. Kalam outlined a number of the problems afflicting \\ndeveloping nations today, and posed a question to the audience that helped frame his vision for the \\nworld .  \\n \\n“In this environment of conflict, I’m asking myself, in the presence of such an enlightened audience on \\nCarleton campus:  can we collectively make it possible in every part of the world, to have people living in \\na green environment without pollution, to have prosperity without poverty, and to have peace with no \\nfear of war.”  \\n \\n“That is  the theme of the talk.”  \\n \\nKalam’s knowledge of historical events and his unique insight into the convergence of religious \\nexperience and modern culture was on full display that evening . In the opening minutes of his speech, \\nKalam touched on theology and sp irituality, science and technology, and the legacies of Abraham \\nLincoln, Nelson Mandela , and Mahatma Gandhi.  \\n \\n“In the last 150 years , we have witnessed two world wars, hundreds of battles between hostile socie ties, \\nand the beginnings of 133 democratic nat ions being freed from foreign dominations.” Kalam said.  \\n \\nThree Carleton graduate students studying sustainable -engineering arrived at the event almost a full \\nhour early. As they anxiously awaited the arrival of the former president, their enthusiasm for listening \\nto the iconic Indian was nothing short of infectious. And that enthusiasm only grew as Kala m concluded \\nhis remarks .  \\n \\n “He’s a visionary, and we love to hear him,” said Binita Desai, 27. “He’s so inspiring when he gives us the \\nstories  of how he grew up and how he learns things. That is something that we completely look forward \\nto and we would l ove to have the same morals as he does.”  \\n \\nGurjan Kak said that she’d never seen a leader give such a lecture.  \\n \\n“He’s not a person that a few handful of people know or want to talk to. I saw people who might be his \\nage who were so curious about what he thought. Even people who were my age were asking questions. \\nAnd that’s a beautiful thing.”  \\n For Fuad Ahmed, Kalam is “basically an enigma for youngsters. I think you saw the enthusiasm when he \\nasked the youngsters to stand up at the end more than anyone el se. Because he wants young people to \\ndevelop their thought processes.”  \\n \\n“The way he spoke, the way he talks, there’s just so much humility and humbleness there.”  \\n \\nThey all shared a deep knowledge of Kalam’s work, not only as the former president of the an cient \\nnation, but as an educator and leader of youth. Throughout the evening, their faces betrayed just how \\nenthralled they were with stories of his travels throughout India, inspiring millions of youth in villages \\nand cities alike to work toward a more pr osperous and peaceful society.  \\n \\nAt the end of the night a middle -aged  man stood up and posed a question to th e esteemed educator. \\nKalam was asked what he thought was the largest obstacle to progress in the world today . His answer \\nwas simple.  \\n \\n“The day th e youth say it cannot be done is the day it cannot be done. I am confident.”  \\n \\nHis faith in the power of ideas brought him to one of the highest offices in India, and he came to \\nCarleton to impart that wisdom upon a crowd eager to take up his challenge. Ka lam ended his talk with \\nan affirmation of his faith in future generations to rise to that challenge ahead of them.  \\n \\n \\n '"
      ]
     },
     "execution_count": 14,
     "metadata": {},
     "output_type": "execute_result"
    }
   ],
   "source": [
    "text"
   ]
  },
  {
   "cell_type": "code",
   "execution_count": 15,
   "metadata": {},
   "outputs": [
    {
     "data": {
      "text/plain": [
       "[Document(page_content='Headline: Former president of India Dr. A .P.J. Abdul Kalam speaks at Carleton University  \\nBy, Mike Lapointe  \\n \\nThe former president of India, Dr. A.P.J. Abdul Kalam, told a group of Carleton University students last \\nmonth that they must take responsibility for their place in a changing world .  \\n \\n“Science and technology enhance the purpose and quality of human life ,’’ Kalam said during the \\nInaugural Bugh Singh and Kashmir Kaur Dhahan Lecture presented by the Canada -India Centre for \\nExcellen ce in Science, Technology, Trade and Policy.  \\n \\nElected as president of India in 2002, Kalam served in office for five years.  \\n \\nThe 82 year -old lifelong educator and former president of the second most populous country in the \\nworld began his speech with a n ote of caution. Kalam outlined a number of the problems afflicting \\ndeveloping nations today, and posed a question to the audience that helped frame his vision for the \\nworld .  \\n \\n“In this environment of conflict, I’m asking myself, in the presence of such an enlightened audience on \\nCarleton campus:  can we collectively make it possible in every part of the world, to have people living in \\na green environment without pollution, to have prosperity without poverty, and to have peace with no \\nfear of war.”  \\n \\n“That is  the theme of the talk.”  \\n \\nKalam’s knowledge of historical events and his unique insight into the convergence of religious \\nexperience and modern culture was on full display that evening . In the opening minutes of his speech, \\nKalam touched on theology and sp irituality, science and technology, and the legacies of Abraham \\nLincoln, Nelson Mandela , and Mahatma Gandhi.  \\n \\n“In the last 150 years , we have witnessed two world wars, hundreds of battles between hostile socie ties, \\nand the beginnings of 133 democratic nat ions being freed from foreign dominations.” Kalam said.  \\n \\nThree Carleton graduate students studying sustainable -engineering arrived at the event almost a full \\nhour early. As they anxiously awaited the arrival of the former president, their enthusiasm for listening \\nto the iconic Indian was nothing short of infectious. And that enthusiasm only grew as Kala m concluded \\nhis remarks .  \\n \\n “He’s a visionary, and we love to hear him,” said Binita Desai, 27. “He’s so inspiring when he gives us the \\nstories  of how he grew up and how he learns things. That is something that we completely look forward \\nto and we would l ove to have the same morals as he does.”  \\n \\nGurjan Kak said that she’d never seen a leader give such a lecture.  \\n \\n“He’s not a person that a few handful of people know or want to talk to. I saw people who might be his \\nage who were so curious about what he thought. Even people who were my age were asking questions. \\nAnd that’s a beautiful thing.”  \\n For Fuad Ahmed, Kalam is “basically an enigma for youngsters. I think you saw the enthusiasm when he \\nasked the youngsters to stand up at the end more than anyone el se. Because he wants young people to \\ndevelop their thought processes.”  \\n \\n“The way he spoke, the way he talks, there’s just so much humility and humbleness there.”  \\n \\nThey all shared a deep knowledge of Kalam’s work, not only as the former president of the an cient \\nnation, but as an educator and leader of youth. Throughout the evening, their faces betrayed just how \\nenthralled they were with stories of his travels throughout India, inspiring millions of youth in villages \\nand cities alike to work toward a more pr osperous and peaceful society.  \\n \\nAt the end of the night a middle -aged  man stood up and posed a question to th e esteemed educator. \\nKalam was asked what he thought was the largest obstacle to progress in the world today . His answer \\nwas simple.  \\n \\n“The day th e youth say it cannot be done is the day it cannot be done. I am confident.”  \\n \\nHis faith in the power of ideas brought him to one of the highest offices in India, and he came to \\nCarleton to impart that wisdom upon a crowd eager to take up his challenge. Ka lam ended his talk with \\nan affirmation of his faith in future generations to rise to that challenge ahead of them.  \\n \\n \\n ')]"
      ]
     },
     "execution_count": 15,
     "metadata": {},
     "output_type": "execute_result"
    }
   ],
   "source": [
    "from langchain.docstore.document import Document\n",
    "docs = [Document(page_content=text)]\n",
    "docs"
   ]
  },
  {
   "cell_type": "code",
   "execution_count": 18,
   "metadata": {},
   "outputs": [],
   "source": [
    "llm = ChatOpenAI(temperature=0, model_name='gpt-3.5-turbo')"
   ]
  },
  {
   "cell_type": "code",
   "execution_count": 19,
   "metadata": {},
   "outputs": [],
   "source": [
    "from langchain import PromptTemplate\n",
    "from langchain.chat_models import ChatOpenAI\n",
    "from langchain.chains.summarize import load_summarize_chain\n",
    "from langchain.docstore.document import Document"
   ]
  },
  {
   "cell_type": "code",
   "execution_count": null,
   "metadata": {},
   "outputs": [],
   "source": [
    "template = '''Write a concise and short summary of the following speech.\n",
    "Speech: `{text}`\n",
    "'''\n",
    "prompt = PromptTemplate(\n",
    "    input_variables=['text'],\n",
    "    template=template\n",
    ")"
   ]
  },
  {
   "cell_type": "code",
   "execution_count": null,
   "metadata": {},
   "outputs": [],
   "source": [
    "chain = load_summarize_chain(\n",
    "    llm,\n",
    "    chain_type='stuff',\n",
    "    prompt=prompt,\n",
    "    verbose=False\n",
    ")\n",
    "output_summary = chain.run(docs)"
   ]
  },
  {
   "cell_type": "code",
   "execution_count": null,
   "metadata": {},
   "outputs": [],
   "source": [
    "output_summary"
   ]
  },
  {
   "cell_type": "code",
   "execution_count": 32,
   "metadata": {},
   "outputs": [],
   "source": [
    "#Summarizing Large Documents Using Map Reduce\n",
    "from langchain import PromptTemplate\n",
    "from langchain.chat_models import ChatOpenAI\n",
    "from langchain.chains.summarize import load_summarize_chain\n",
    "from langchain.text_splitter import RecursiveCharacterTextSplitter\n",
    "from typing_extensions import Concatenate"
   ]
  },
  {
   "cell_type": "code",
   "execution_count": 33,
   "metadata": {},
   "outputs": [],
   "source": [
    "# provide the path of  pdf file/files.\n",
    "pdfreader = PdfReader('apjspeech.pdf')\n",
    "\n",
    "# read text from pdf\n",
    "text = ''\n",
    "for i, page in enumerate(pdfreader.pages):\n",
    "    content = page.extract_text()\n",
    "    if content:\n",
    "        text += content\n",
    "        \n",
    "llm = ChatOpenAI(temperature=0, model_name='gpt-3.5-turbo')"
   ]
  },
  {
   "cell_type": "code",
   "execution_count": 27,
   "metadata": {},
   "outputs": [
    {
     "data": {
      "text/plain": [
       "935"
      ]
     },
     "execution_count": 27,
     "metadata": {},
     "output_type": "execute_result"
    }
   ],
   "source": [
    "llm.get_num_tokens(text)"
   ]
  },
  {
   "cell_type": "code",
   "execution_count": 28,
   "metadata": {},
   "outputs": [
    {
     "data": {
      "text/plain": [
       "1"
      ]
     },
     "execution_count": 28,
     "metadata": {},
     "output_type": "execute_result"
    }
   ],
   "source": [
    "## Splittting the text\n",
    "text_splitter = RecursiveCharacterTextSplitter(chunk_size=10000, chunk_overlap=20)\n",
    "chunks = text_splitter.create_documents([text])\n",
    "len(chunks)"
   ]
  },
  {
   "cell_type": "code",
   "execution_count": null,
   "metadata": {},
   "outputs": [],
   "source": [
    "chain = load_summarize_chain(\n",
    "    llm,\n",
    "    chain_type='map_reduce',\n",
    "    verbose=False\n",
    ")\n",
    "summary = chain.run(chunks)\n",
    "summary"
   ]
  },
  {
   "cell_type": "code",
   "execution_count": 31,
   "metadata": {},
   "outputs": [],
   "source": [
    "# Map Reduce With Custom Prompts\n",
    "chunks_prompt=\"\"\"\n",
    "Please summarize the below speech:\n",
    "Speech:`{text}'\n",
    "Summary:\n",
    "\"\"\"\n",
    "map_prompt_template=PromptTemplate(input_variables=['text'],\n",
    "                                    template=chunks_prompt)"
   ]
  },
  {
   "cell_type": "code",
   "execution_count": 30,
   "metadata": {},
   "outputs": [],
   "source": [
    "final_combine_prompt='''\n",
    "Provide a final summary of the entire speech with these important points.\n",
    "Add a Generic Motivational Title,\n",
    "Start the precise summary with an introduction and provide the\n",
    "summary in number points for the speech.\n",
    "Speech: `{text}`\n",
    "'''\n",
    "final_combine_prompt_template=PromptTemplate(input_variables=['text'],\n",
    "                                             template=final_combine_prompt)"
   ]
  },
  {
   "cell_type": "code",
   "execution_count": null,
   "metadata": {},
   "outputs": [],
   "source": [
    "summary_chain = load_summarize_chain(\n",
    "    llm=llm,\n",
    "    chain_type='map_reduce',\n",
    "    map_prompt=map_prompt_template,\n",
    "    combine_prompt=final_combine_prompt_template,\n",
    "    verbose=False\n",
    ")\n",
    "output = summary_chain.run(chunks)\n",
    "output"
   ]
  },
  {
   "cell_type": "code",
   "execution_count": null,
   "metadata": {},
   "outputs": [],
   "source": [
    "#RefineChain For Summarization\n",
    "chain = load_summarize_chain(\n",
    "    llm=llm,\n",
    "    chain_type='refine',\n",
    "    verbose=True\n",
    ")\n",
    "output_summary = chain.run(chunks)\n",
    "output_summary"
   ]
  }
 ],
 "metadata": {
  "kernelspec": {
   "display_name": "Python 3",
   "language": "python",
   "name": "python3"
  },
  "language_info": {
   "codemirror_mode": {
    "name": "ipython",
    "version": 3
   },
   "file_extension": ".py",
   "mimetype": "text/x-python",
   "name": "python",
   "nbconvert_exporter": "python",
   "pygments_lexer": "ipython3",
   "version": "3.9.18"
  }
 },
 "nbformat": 4,
 "nbformat_minor": 2
}
